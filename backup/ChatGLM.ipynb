{
  "nbformat": 4,
  "nbformat_minor": 0,
  "metadata": {
    "colab": {
      "provenance": [],
      "machine_shape": "hm",
      "gpuType": "T4",
      "authorship_tag": "ABX9TyPjAPNqsDXn+MEgZzG0UOam",
      "include_colab_link": true
    },
    "kernelspec": {
      "name": "python3",
      "display_name": "Python 3"
    },
    "language_info": {
      "name": "python"
    },
    "accelerator": "GPU",
    "gpuClass": "standard"
  },
  "cells": [
    {
      "cell_type": "markdown",
      "metadata": {
        "id": "view-in-github",
        "colab_type": "text"
      },
      "source": [
        "<a href=\"https://colab.research.google.com/github/dream80/TonyColab/blob/master/ChatGLM.ipynb\" target=\"_parent\"><img src=\"https://colab.research.google.com/assets/colab-badge.svg\" alt=\"Open In Colab\"/></a>"
      ]
    },
    {
      "cell_type": "markdown",
      "source": [
        "# 简介\n",
        "这是一个快速体验ChatGLM的Colab页面，只要一步一步点击脚本即可。  \n",
        "为了能通过网址访问，克隆项目后需要修改一下 Web_demo.py文件里面101行\n",
        "\n",
        "demo.queue().launch(share=True, inbrowser=True)"
      ],
      "metadata": {
        "id": "hr99pI1WT5Kh"
      }
    },
    {
      "cell_type": "code",
      "execution_count": null,
      "metadata": {
        "id": "bBpFu_8q4Ah1"
      },
      "outputs": [],
      "source": [
        "#@title 克隆项目\n",
        "!git clone https://github.com/THUDM/ChatGLM-6B\n",
        "%cd ChatGLM-6B\n"
      ]
    },
    {
      "cell_type": "code",
      "source": [
        "#@title 安装依赖\n",
        "!pip install -r requirements.txt\n",
        "!pip install gradio\n"
      ],
      "metadata": {
        "id": "DnSRI_1QC0sn"
      },
      "execution_count": null,
      "outputs": []
    },
    {
      "cell_type": "code",
      "source": [
        "#@title 开始运行\n",
        "%cd /content/ChatGLM-6B\n",
        "!python web_demo.py"
      ],
      "metadata": {
        "id": "WT2eJUiv6ipf"
      },
      "execution_count": null,
      "outputs": []
    }
  ]
}